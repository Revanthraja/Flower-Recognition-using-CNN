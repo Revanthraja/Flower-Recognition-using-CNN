{
 "cells": [
  {
   "cell_type": "code",
   "execution_count": 53,
   "id": "6da5604c",
   "metadata": {},
   "outputs": [],
   "source": [
    "import numpy as np\n",
    "import tensorflow as tf\n",
    "from tensorflow.keras.models import Sequential\n",
    "from tensorflow.keras.preprocessing.image import ImageDataGenerator\n",
    "from tensorflow.keras.layers import Conv2D,MaxPool2D,Dense,Flatten,Dropout"
   ]
  },
  {
   "cell_type": "code",
   "execution_count": 39,
   "id": "a99b4484",
   "metadata": {},
   "outputs": [
    {
     "name": "stdout",
     "output_type": "stream",
     "text": [
      "Found 4317 images belonging to 5 classes.\n"
     ]
    }
   ],
   "source": [
    "train_datagen=ImageDataGenerator(\n",
    "    rescale=1./255,\n",
    "    shear_range=0.2,\n",
    "    zoom_range=0.2,\n",
    "    horizontal_flip=True)\n",
    "training_set=train_datagen.flow_from_directory(\n",
    "    \"E:/images/Flower_recognition/Train_set\",\n",
    "    target_size=(64,64),\n",
    "    batch_size=32,\n",
    "    class_mode='categorical'\n",
    ")\n",
    "\n"
   ]
  },
  {
   "cell_type": "code",
   "execution_count": 40,
   "id": "3e568da6",
   "metadata": {},
   "outputs": [
    {
     "name": "stdout",
     "output_type": "stream",
     "text": [
      "Found 189 images belonging to 5 classes.\n"
     ]
    }
   ],
   "source": [
    "test_datagen=ImageDataGenerator(rescale=1./255)\n",
    "test_set=test_datagen.flow_from_directory('E:/images/Flower_recognition/Test_set',\n",
    "                                         target_size=(64,64),\n",
    "                                          batch_size=32,\n",
    "                                          class_mode=\"categorical\"\n",
    "                                         \n",
    "                                         )"
   ]
  },
  {
   "cell_type": "code",
   "execution_count": 41,
   "id": "ed15bf71",
   "metadata": {},
   "outputs": [],
   "source": [
    "model=Sequential()"
   ]
  },
  {
   "cell_type": "code",
   "execution_count": 42,
   "id": "2d5074d9",
   "metadata": {},
   "outputs": [],
   "source": [
    "model.add(Conv2D(filters=64,kernel_size=3,activation='relu',input_shape=[64,64,3]))\n",
    "model.add(MaxPool2D(pool_size=2,strides=2))"
   ]
  },
  {
   "cell_type": "code",
   "execution_count": 43,
   "id": "7e5c0f98",
   "metadata": {},
   "outputs": [],
   "source": [
    "model.add(Conv2D(filters=64,kernel_size=3,activation='relu'))\n",
    "model.add(MaxPool2D(pool_size=2,strides=2))"
   ]
  },
  {
   "cell_type": "code",
   "execution_count": 44,
   "id": "8013cb25",
   "metadata": {},
   "outputs": [],
   "source": [
    "model.add(Dropout(0.5))\n",
    "model.add(Flatten())"
   ]
  },
  {
   "cell_type": "code",
   "execution_count": 45,
   "id": "c55fb8f5",
   "metadata": {},
   "outputs": [],
   "source": [
    "model.add(Dense(units=128,activation='relu'))\n",
    "model.add(Dense(units=5,activation='softmax'))"
   ]
  },
  {
   "cell_type": "code",
   "execution_count": 49,
   "id": "ec1a28a1",
   "metadata": {},
   "outputs": [],
   "source": [
    "model.compile(optimizer='adam',loss='categorical_crossentropy',metrics=['accuracy'])"
   ]
  },
  {
   "cell_type": "code",
   "execution_count": 50,
   "id": "496d175f",
   "metadata": {},
   "outputs": [
    {
     "name": "stdout",
     "output_type": "stream",
     "text": [
      "Epoch 1/10\n",
      "135/135 [==============================] - 36s 255ms/step - loss: 0.6374 - accuracy: 0.7563 - val_loss: 0.4963 - val_accuracy: 0.8201\n",
      "Epoch 2/10\n",
      "135/135 [==============================] - 31s 228ms/step - loss: 0.6041 - accuracy: 0.7704 - val_loss: 0.4231 - val_accuracy: 0.8624\n",
      "Epoch 3/10\n",
      "135/135 [==============================] - 32s 234ms/step - loss: 0.5670 - accuracy: 0.7809 - val_loss: 0.4311 - val_accuracy: 0.8307\n",
      "Epoch 4/10\n",
      "135/135 [==============================] - 31s 229ms/step - loss: 0.5500 - accuracy: 0.7853 - val_loss: 0.4271 - val_accuracy: 0.8624\n",
      "Epoch 5/10\n",
      "135/135 [==============================] - 30s 220ms/step - loss: 0.5077 - accuracy: 0.8075 - val_loss: 0.3771 - val_accuracy: 0.8519\n",
      "Epoch 6/10\n",
      "135/135 [==============================] - 31s 228ms/step - loss: 0.4903 - accuracy: 0.8168 - val_loss: 0.3145 - val_accuracy: 0.8836\n",
      "Epoch 7/10\n",
      "135/135 [==============================] - 30s 224ms/step - loss: 0.4685 - accuracy: 0.8293 - val_loss: 0.3087 - val_accuracy: 0.8836\n",
      "Epoch 8/10\n",
      "135/135 [==============================] - 31s 228ms/step - loss: 0.4521 - accuracy: 0.8304 - val_loss: 0.3166 - val_accuracy: 0.8730\n",
      "Epoch 9/10\n",
      "135/135 [==============================] - 35s 262ms/step - loss: 0.4137 - accuracy: 0.8471 - val_loss: 0.2857 - val_accuracy: 0.9048\n",
      "Epoch 10/10\n",
      "135/135 [==============================] - 33s 246ms/step - loss: 0.4088 - accuracy: 0.8504 - val_loss: 0.2582 - val_accuracy: 0.9048\n"
     ]
    },
    {
     "data": {
      "text/plain": [
       "<keras.callbacks.History at 0x230c714b670>"
      ]
     },
     "execution_count": 50,
     "metadata": {},
     "output_type": "execute_result"
    }
   ],
   "source": [
    "model.fit(x=training_set,validation_data=test_set,epochs=10)"
   ]
  },
  {
   "cell_type": "code",
   "execution_count": 48,
   "id": "afc9afd2",
   "metadata": {},
   "outputs": [],
   "source": [
    "model.save(\"flower.h5\")"
   ]
  },
  {
   "cell_type": "code",
   "execution_count": 57,
   "id": "266fc725",
   "metadata": {},
   "outputs": [
    {
     "name": "stdout",
     "output_type": "stream",
     "text": [
      "1/1 [==============================] - 0s 32ms/step\n"
     ]
    },
    {
     "data": {
      "text/plain": [
       "{'daisy': 0, 'dandelion': 1, 'rose': 2, 'sunflower': 3, 'tulip': 4}"
      ]
     },
     "execution_count": 57,
     "metadata": {},
     "output_type": "execute_result"
    }
   ],
   "source": [
    "from tensorflow.keras.preprocessing import image\n",
    "test_image=image.load_img('E:/images/flowers/sunflower/sun.jpg',target_size=(64,64))\n",
    "test_image=image.img_to_array(test_image)\n",
    "test_image=np.expand_dims(test_image,axis=0)\n",
    "result=model.predict(test_image)\n",
    "training_set.class_indices\n"
   ]
  },
  {
   "cell_type": "code",
   "execution_count": 58,
   "id": "d87b8c60",
   "metadata": {},
   "outputs": [
    {
     "data": {
      "text/plain": [
       "array([[0., 0., 0., 1., 0.]], dtype=float32)"
      ]
     },
     "execution_count": 58,
     "metadata": {},
     "output_type": "execute_result"
    }
   ],
   "source": [
    "result"
   ]
  },
  {
   "cell_type": "code",
   "execution_count": 59,
   "id": "137f6c6d",
   "metadata": {},
   "outputs": [
    {
     "name": "stdout",
     "output_type": "stream",
     "text": [
      "This is Sunflower\n"
     ]
    }
   ],
   "source": [
    "if result[0][0]==1:\n",
    "    print(\"This is Daisy\")\n",
    "elif result[0][1]==1:\n",
    "    print(\"This is Dandelion\")\n",
    "elif result[0][2]:\n",
    "    print(\"This is Rose\")\n",
    "elif result[0][3]==1:\n",
    "    print(\"This is Sunflower\")\n",
    "elif result[0][4]==1:\n",
    "    print(\"This si Tulip\")"
   ]
  },
  {
   "cell_type": "code",
   "execution_count": null,
   "id": "81b0d513",
   "metadata": {},
   "outputs": [],
   "source": []
  }
 ],
 "metadata": {
  "kernelspec": {
   "display_name": "Python 3 (ipykernel)",
   "language": "python",
   "name": "python3"
  },
  "language_info": {
   "codemirror_mode": {
    "name": "ipython",
    "version": 3
   },
   "file_extension": ".py",
   "mimetype": "text/x-python",
   "name": "python",
   "nbconvert_exporter": "python",
   "pygments_lexer": "ipython3",
   "version": "3.9.12"
  }
 },
 "nbformat": 4,
 "nbformat_minor": 5
}
